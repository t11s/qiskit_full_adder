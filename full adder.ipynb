{
 "cells": [
  {
   "cell_type": "code",
   "execution_count": 1,
   "metadata": {},
   "outputs": [],
   "source": [
    "import numpy as np\n",
    "from qiskit import *\n",
    "%matplotlib inline"
   ]
  },
  {
   "cell_type": "code",
   "execution_count": 2,
   "metadata": {},
   "outputs": [
    {
     "data": {
      "text/plain": [
       "<qiskit.circuit.instructionset.InstructionSet at 0x7f8f219d2520>"
      ]
     },
     "execution_count": 2,
     "metadata": {},
     "output_type": "execute_result"
    }
   ],
   "source": [
    "# full adder\n",
    "# inputs  - 0=A 1=B 2=Carry in\n",
    "# outputs - 2=Sum 3=Carry out \n",
    "qc=QuantumCircuit(4)\n",
    "qc.ccx(0,1,3)\n",
    "qc.cx(0,1)\n",
    "qc.ccx(1,2,3)\n",
    "qc.cx(1,2)\n",
    "qc.cx(0,1)"
   ]
  },
  {
   "cell_type": "code",
   "execution_count": 3,
   "metadata": {},
   "outputs": [
    {
     "data": {
      "text/html": [
       "<pre style=\"word-wrap: normal;white-space: pre;background: #fff0;line-height: 1.1;font-family: &quot;Courier New&quot;,Courier,monospace\">                              \n",
       "q_0: ──■────■──────────────■──\n",
       "       │  ┌─┴─┐          ┌─┴─┐\n",
       "q_1: ──■──┤ X ├──■────■──┤ X ├\n",
       "       │  └───┘  │  ┌─┴─┐└───┘\n",
       "q_2: ──┼─────────■──┤ X ├─────\n",
       "     ┌─┴─┐     ┌─┴─┐└───┘     \n",
       "q_3: ┤ X ├─────┤ X ├──────────\n",
       "     └───┘     └───┘          </pre>"
      ],
      "text/plain": [
       "                              \n",
       "q_0: ──■────■──────────────■──\n",
       "       │  ┌─┴─┐          ┌─┴─┐\n",
       "q_1: ──■──┤ X ├──■────■──┤ X ├\n",
       "       │  └───┘  │  ┌─┴─┐└───┘\n",
       "q_2: ──┼─────────■──┤ X ├─────\n",
       "     ┌─┴─┐     ┌─┴─┐└───┘     \n",
       "q_3: ┤ X ├─────┤ X ├──────────\n",
       "     └───┘     └───┘          "
      ]
     },
     "execution_count": 3,
     "metadata": {},
     "output_type": "execute_result"
    }
   ],
   "source": [
    "qc.draw()"
   ]
  },
  {
   "cell_type": "code",
   "execution_count": 4,
   "metadata": {},
   "outputs": [],
   "source": [
    "fullAdder=qc.to_gate(label='fullAdder')"
   ]
  },
  {
   "cell_type": "code",
   "execution_count": 5,
   "metadata": {},
   "outputs": [
    {
     "data": {
      "text/plain": [
       "<qiskit.circuit.instructionset.InstructionSet at 0x7f8f219704c0>"
      ]
     },
     "execution_count": 5,
     "metadata": {},
     "output_type": "execute_result"
    }
   ],
   "source": [
    "twoBitAdd=QuantumCircuit(7,3)\n",
    "twoBitAdd.x(0)\n",
    "#add3.x(1)\n",
    "twoBitAdd.x(4)\n",
    "#add3.x(5)\n",
    "twoBitAdd.append(fullAdder,[0,1,2,3])\n",
    "twoBitAdd.append(fullAdder,[4,5,3,6])\n",
    "twoBitAdd.barrier([0,1,2,3,4,5])\n",
    "twoBitAdd.measure([2,3,6],[0,1,2])"
   ]
  },
  {
   "cell_type": "code",
   "execution_count": 6,
   "metadata": {},
   "outputs": [
    {
     "data": {
      "text/html": [
       "<pre style=\"word-wrap: normal;white-space: pre;background: #fff0;line-height: 1.1;font-family: &quot;Courier New&quot;,Courier,monospace\">     ┌───┐┌────────────┐               ░       \n",
       "q_0: ┤ X ├┤0           ├───────────────░───────\n",
       "     └───┘│            │               ░       \n",
       "q_1: ─────┤1           ├───────────────░───────\n",
       "          │  fullAdder │               ░ ┌─┐   \n",
       "q_2: ─────┤2           ├───────────────░─┤M├───\n",
       "          │            │┌────────────┐ ░ └╥┘┌─┐\n",
       "q_3: ─────┤3           ├┤2           ├─░──╫─┤M├\n",
       "     ┌───┐└────────────┘│            │ ░  ║ └╥┘\n",
       "q_4: ┤ X ├──────────────┤0           ├─░──╫──╫─\n",
       "     └───┘              │  fullAdder │ ░  ║  ║ \n",
       "q_5: ───────────────────┤1           ├─░──╫──╫─\n",
       "                        │            │┌─┐ ║  ║ \n",
       "q_6: ───────────────────┤3           ├┤M├─╫──╫─\n",
       "                        └────────────┘└╥┘ ║  ║ \n",
       "c: 3/══════════════════════════════════╩══╩══╩═\n",
       "                                       2  0  1 </pre>"
      ],
      "text/plain": [
       "     ┌───┐┌────────────┐               ░       \n",
       "q_0: ┤ X ├┤0           ├───────────────░───────\n",
       "     └───┘│            │               ░       \n",
       "q_1: ─────┤1           ├───────────────░───────\n",
       "          │  fullAdder │               ░ ┌─┐   \n",
       "q_2: ─────┤2           ├───────────────░─┤M├───\n",
       "          │            │┌────────────┐ ░ └╥┘┌─┐\n",
       "q_3: ─────┤3           ├┤2           ├─░──╫─┤M├\n",
       "     ┌───┐└────────────┘│            │ ░  ║ └╥┘\n",
       "q_4: ┤ X ├──────────────┤0           ├─░──╫──╫─\n",
       "     └───┘              │  fullAdder │ ░  ║  ║ \n",
       "q_5: ───────────────────┤1           ├─░──╫──╫─\n",
       "                        │            │┌─┐ ║  ║ \n",
       "q_6: ───────────────────┤3           ├┤M├─╫──╫─\n",
       "                        └────────────┘└╥┘ ║  ║ \n",
       "c: 3/══════════════════════════════════╩══╩══╩═\n",
       "                                       2  0  1 "
      ]
     },
     "execution_count": 6,
     "metadata": {},
     "output_type": "execute_result"
    }
   ],
   "source": [
    "twoBitAdd.draw()"
   ]
  },
  {
   "cell_type": "code",
   "execution_count": 7,
   "metadata": {},
   "outputs": [],
   "source": [
    "simulator=Aer.get_backend('qasm_simulator')\n",
    "from qiskit.tools.visualization import plot_histogram\n",
    "%matplotlib inline"
   ]
  },
  {
   "cell_type": "code",
   "execution_count": 8,
   "metadata": {},
   "outputs": [
    {
     "data": {
      "image/png": "[encoded data removed]",
      "text/plain": [
       "<Figure size 504x360 with 1 Axes>"
      ]
     },
     "execution_count": 8,
     "metadata": {},
     "output_type": "execute_result"
    }
   ],
   "source": [
    "result=execute(twoBitAdd,backend=simulator).result()\n",
    "plot_histogram(result.get_counts())"
   ]
  },
  {
   "cell_type": "code",
   "execution_count": null,
   "metadata": {},
   "outputs": [],
   "source": []
  }
 ],
 "metadata": {
  "kernelspec": {
   "display_name": "Python 3",
   "language": "python",
   "name": "python3"
  },
  "language_info": {
   "codemirror_mode": {
    "name": "ipython",
    "version": 3
   },
   "file_extension": ".py",
   "mimetype": "text/x-python",
   "name": "python",
   "nbconvert_exporter": "python",
   "pygments_lexer": "ipython3",
   "version": "3.8.5"
  }
 },
 "nbformat": 4,
 "nbformat_minor": 4
}
